{
  "nbformat": 4,
  "nbformat_minor": 0,
  "metadata": {
    "colab": {
      "provenance": []
    },
    "kernelspec": {
      "name": "python3",
      "display_name": "Python 3"
    },
    "language_info": {
      "name": "python"
    }
  },
  "cells": [
    {
      "cell_type": "markdown",
      "source": [
        "Data Structure => it is the basic concept of every programming language also it is the way to store and organize the data so it can be easily accesiable  "
      ],
      "metadata": {
        "id": "5BEk__P0XCjm"
      }
    },
    {
      "cell_type": "markdown",
      "source": [
        "why we use Data Structure => there are diffrent diffrent type of data structure and also the organization of data is the most important part but also as programmer you have to write the code with more effective way like how fast you can access the data and many more there we use the data structure according to our need."
      ],
      "metadata": {
        "id": "CaF_vgyjXDY1"
      }
    },
    {
      "cell_type": "markdown",
      "source": [
        "there are two type of data structure in python \n",
        "1) inbuilt data structure\n",
        "2) user defined data structure"
      ],
      "metadata": {
        "id": "GOcOoOTcoXJI"
      }
    },
    {
      "cell_type": "markdown",
      "source": [
        "list, dict, set, tuple are in built data structure in python "
      ],
      "metadata": {
        "id": "cH70tHve2_CV"
      }
    },
    {
      "cell_type": "markdown",
      "source": [
        "user defined data structure are stack ,queue, linkedlist , tree, graph"
      ],
      "metadata": {
        "id": "GtPvhIKI3Ihd"
      }
    },
    {
      "cell_type": "markdown",
      "source": [
        "List and Tuple"
      ],
      "metadata": {
        "id": "hKHFkn1qgy4-"
      }
    },
    {
      "cell_type": "markdown",
      "source": [
        "\n",
        "\n",
        "1   List is Mutable and Tuple is Immutable.\n",
        "2   List is support Indexing and Tuple also support Indexing\n",
        "3   List is slow and Tuple is faster than list\n",
        "4   List and Tuple Both can be nested\n",
        "5   List is enclosed with subscript [] while for tuple we use Paranthesis ().\n",
        "6   List and Tuple both are ordered.\n",
        "7   List and Tuple both support the duplicate values.\n",
        "\n",
        "\n",
        "\n",
        "\n"
      ],
      "metadata": {
        "id": "ljDetl3WzQv3"
      }
    },
    {
      "cell_type": "code",
      "source": [
        "# How to create a list in python\n",
        "list1 = []\n",
        "print(list1)"
      ],
      "metadata": {
        "colab": {
          "base_uri": "https://localhost:8080/"
        },
        "id": "tgbrOUo3xPUN",
        "outputId": "85b1cb45-f475-4aef-bbef-06b7518c2485"
      },
      "execution_count": 2,
      "outputs": [
        {
          "output_type": "stream",
          "name": "stdout",
          "text": [
            "[]\n"
          ]
        }
      ]
    },
    {
      "cell_type": "code",
      "source": [
        "# You can also use the list constructor for creating the list\n",
        "list2 = list()\n",
        "print(list2)"
      ],
      "metadata": {
        "colab": {
          "base_uri": "https://localhost:8080/"
        },
        "id": "X2Enr4iWxcgz",
        "outputId": "3be1f772-f5c7-4510-fe03-c816cfca28bb"
      },
      "execution_count": 4,
      "outputs": [
        {
          "output_type": "stream",
          "name": "stdout",
          "text": [
            "[]\n"
          ]
        }
      ]
    },
    {
      "cell_type": "code",
      "source": [
        "# List support Positive and negative indexing\n",
        "List1 = [4,\"qwerty\",8.0,7,91,67,89]\n",
        "print(List1[0:8:3]) # (start,end,step)"
      ],
      "metadata": {
        "colab": {
          "base_uri": "https://localhost:8080/"
        },
        "id": "UMwnAqnkywd0",
        "outputId": "0f62f86f-8b37-4474-9633-a1b8d6d3b0a2"
      },
      "execution_count": 16,
      "outputs": [
        {
          "output_type": "stream",
          "name": "stdout",
          "text": [
            "[4, 7, 89]\n"
          ]
        }
      ]
    },
    {
      "cell_type": "code",
      "source": [
        "# You can add an element in list by using append method\n",
        "List1.append(45)\n",
        "print(List1)"
      ],
      "metadata": {
        "colab": {
          "base_uri": "https://localhost:8080/"
        },
        "id": "pUhUz1_G1koi",
        "outputId": "1f530c7c-b48b-463b-bbe0-47285c00841a"
      },
      "execution_count": 17,
      "outputs": [
        {
          "output_type": "stream",
          "name": "stdout",
          "text": [
            "[4, 'qwerty', 8.0, 7, 91, 67, 89, 45]\n"
          ]
        }
      ]
    },
    {
      "cell_type": "code",
      "source": [
        "# You can remove an element by using remove method\n",
        "List1.remove(67)\n",
        "print(List1)"
      ],
      "metadata": {
        "colab": {
          "base_uri": "https://localhost:8080/"
        },
        "id": "Sorqsx_vBDMk",
        "outputId": "761bf62d-a36c-4b9e-9f9a-fc4ebfb9c02e"
      },
      "execution_count": 18,
      "outputs": [
        {
          "output_type": "stream",
          "name": "stdout",
          "text": [
            "[4, 'qwerty', 8.0, 7, 91, 89, 45]\n"
          ]
        }
      ]
    },
    {
      "cell_type": "code",
      "source": [
        "# How create a tuple in python\n",
        "tuple1 = ()\n",
        "print(tuple1)"
      ],
      "metadata": {
        "colab": {
          "base_uri": "https://localhost:8080/"
        },
        "id": "FRbr2udLBV-T",
        "outputId": "93379fb3-fc68-4bb5-f3c5-a6190e01152f"
      },
      "execution_count": 19,
      "outputs": [
        {
          "output_type": "stream",
          "name": "stdout",
          "text": [
            "()\n"
          ]
        }
      ]
    },
    {
      "cell_type": "code",
      "source": [
        "# Tuple Constructor\n",
        "tuple1 = tuple()\n",
        "print(tuple1)"
      ],
      "metadata": {
        "colab": {
          "base_uri": "https://localhost:8080/"
        },
        "id": "0SIf6DmsCWMw",
        "outputId": "cf9a403c-ab5e-4e0e-f3d6-e139612fb922"
      },
      "execution_count": 20,
      "outputs": [
        {
          "output_type": "stream",
          "name": "stdout",
          "text": [
            "()\n"
          ]
        }
      ]
    },
    {
      "cell_type": "code",
      "source": [
        "# tuple support Duplicates\n",
        "tuple1 = (4, 'qwerty', 8.0, 7,7, 91, 89, 45)\n",
        "print(tuple1)"
      ],
      "metadata": {
        "colab": {
          "base_uri": "https://localhost:8080/"
        },
        "id": "7FCfTERqCdV4",
        "outputId": "de46e440-f06d-4468-ae95-64d421d34b9e"
      },
      "execution_count": 23,
      "outputs": [
        {
          "output_type": "stream",
          "name": "stdout",
          "text": [
            "(4, 'qwerty', 8.0, 7, 7, 91, 89, 45)\n"
          ]
        }
      ]
    },
    {
      "cell_type": "code",
      "source": [
        "# length of tuple\n",
        "tuple1 = (4, 'qwerty', 8.0, 7,7, 91, 89, 45)\n",
        "print(len(tuple1))"
      ],
      "metadata": {
        "colab": {
          "base_uri": "https://localhost:8080/"
        },
        "id": "jnel2KAdCkro",
        "outputId": "e21c8bec-1c2d-4abf-a0ec-405bd6aa2371"
      },
      "execution_count": 24,
      "outputs": [
        {
          "output_type": "stream",
          "name": "stdout",
          "text": [
            "8\n"
          ]
        }
      ]
    },
    {
      "cell_type": "code",
      "source": [
        "# tuple also support Indexing\n",
        "tuple1 = (4, 'qwerty', 8.0, 7,7, 91, 89, 45)\n",
        "tuple1[4]"
      ],
      "metadata": {
        "colab": {
          "base_uri": "https://localhost:8080/"
        },
        "id": "KjVunOtUC1t0",
        "outputId": "30ccb842-fff5-407a-ee1a-c78e0a2aa755"
      },
      "execution_count": 27,
      "outputs": [
        {
          "output_type": "execute_result",
          "data": {
            "text/plain": [
              "7"
            ]
          },
          "metadata": {},
          "execution_count": 27
        }
      ]
    },
    {
      "cell_type": "code",
      "source": [
        "# Negative indexing in tuple\n",
        "tuple1 = (4, 'qwerty', 8.0, 7,7, 91, 89, 45)\n",
        "tuple1[-5:]"
      ],
      "metadata": {
        "colab": {
          "base_uri": "https://localhost:8080/"
        },
        "id": "Ow_mzgBwC8n_",
        "outputId": "d7564738-9e69-4f69-997d-6195ca3911c6"
      },
      "execution_count": 33,
      "outputs": [
        {
          "output_type": "execute_result",
          "data": {
            "text/plain": [
              "(7, 7, 91, 89, 45)"
            ]
          },
          "metadata": {},
          "execution_count": 33
        }
      ]
    },
    {
      "cell_type": "code",
      "source": [],
      "metadata": {
        "id": "9DZb6sn3DTCy"
      },
      "execution_count": 34,
      "outputs": []
    },
    {
      "cell_type": "code",
      "source": [],
      "metadata": {
        "id": "gRp4SDvuD442"
      },
      "execution_count": null,
      "outputs": []
    }
  ]
}